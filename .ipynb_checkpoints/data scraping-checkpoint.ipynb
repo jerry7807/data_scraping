{
 "cells": [
  {
   "cell_type": "code",
   "execution_count": 1,
   "id": "1be9df9a",
   "metadata": {},
   "outputs": [],
   "source": [
    "import numpy as np\n",
    "import matplotlib.pyplot as plt\n",
    "import pandas as pd\n",
    "import seaborn as sns\n",
    "import requests\n",
    "import csv\n",
    "from urllib.request import urlopen\n",
    "import ssl\n",
    "import itertools\n",
    "from bs4 import BeautifulSoup as soup\n",
    "from selenium import webdriver\n",
    "from tensorflow import keras\n",
    "sns.set()\n",
    "%matplotlib inline"
   ]
  },
  {
   "cell_type": "code",
   "execution_count": 2,
   "id": "b634a11a",
   "metadata": {},
   "outputs": [
    {
     "data": {
      "text/plain": [
       "'1996-97'"
      ]
     },
     "execution_count": 2,
     "metadata": {},
     "output_type": "execute_result"
    }
   ],
   "source": [
    "url = 'https://www.nba.com/stats/teams/clutch-advanced/?sort=W&dir=-1&Season=1996-97&SeasonType=Regular%20Season'\n",
    "url[70:77]"
   ]
  },
  {
   "cell_type": "code",
   "execution_count": 3,
   "id": "6f0b4229",
   "metadata": {},
   "outputs": [],
   "source": [
    "import os\n",
    "\n",
    "def clutch_advanced_datascraping(url):\n",
    "    #連線到NBA.com\n",
    "    d = webdriver.Chrome()\n",
    "    d.get(url)\n",
    "    s = soup(d.page_source, 'html.parser').find('table')\n",
    "    [_, *data] = [[i.text for i in b.find_all('td')] for b in s.find_all('tr')]\n",
    "    final_data = [i for i in data if len(i) > 1]\n",
    "    \n",
    "    #取得列名整形後添加隊名\n",
    "    column_list = [i for i in soup(d.page_source, 'html.parser').find_all('dt')]\n",
    "\n",
    "    one_dim_column_list = list(itertools.chain.from_iterable(column_list))\n",
    "    \n",
    "    new_column_list = []\n",
    "    for  i  in one_dim_column_list:\n",
    "        new_column_list.append(i.replace('\\n', ''))\n",
    "  \n",
    "\n",
    "    new_column_list2 = []    \n",
    "    for i in new_column_list:\n",
    "        new_column_list2.append(i.replace(' ', ''))\n",
    "\n",
    "    final_column_list = []\n",
    "    \n",
    "    for i in new_column_list2:\n",
    "        final_column_list.append('clutch ' + i)\n",
    "        \n",
    "    final_column_list.insert(0,'TEAM')\n",
    "        \n",
    "    #數據整形\n",
    "    one_dim_data = list(itertools.chain.from_iterable(final_data))\n",
    "    \n",
    "    new_list = []\n",
    "    for  i  in one_dim_data:\n",
    "        new_list.append(i.replace('\\n', ''))\n",
    "\n",
    "   \n",
    "\n",
    "    new_list2 = []\n",
    "    for i in new_list:\n",
    "        new_list2.append(i.replace(' ', ''))\n",
    "\n",
    "    new_list2 = np.array(new_list2).reshape(len(final_data),-1)\n",
    "\n",
    "    nba_data = pd.DataFrame(new_list2)\n",
    "\n",
    "    nba_data = nba_data.drop(0,axis=1)\n",
    "    nba_data.columns = final_column_list\n",
    "    nba_data = nba_data.sort_values('TEAM')\n",
    "\n",
    "    \n",
    "#   設定檔名\n",
    "    file_name = 'clutch_advanced_data_' + url[70:77] +'.csv'\n",
    "    \n",
    "    if os.path.exists('clutch_advanced_dataset') != True:\n",
    "        os.mkdir('clutch_advanced_dataset')\n",
    "\n",
    "    if os.path.exists(file_name):\n",
    "        os.remove(file_name)\n",
    "    nba_data.to_csv('clutch_advanced_dataset/' + file_name,index=False)\n",
    "\n",
    "\n"
   ]
  },
  {
   "cell_type": "code",
   "execution_count": 4,
   "id": "6367acbe",
   "metadata": {},
   "outputs": [],
   "source": [
    "#取得數據\n",
    "\n",
    "clutch_advanced_datascraping(url)"
   ]
  },
  {
   "cell_type": "code",
   "execution_count": null,
   "id": "7228fa8c",
   "metadata": {},
   "outputs": [],
   "source": []
  }
 ],
 "metadata": {
  "kernelspec": {
   "display_name": "Python 3",
   "language": "python",
   "name": "python3"
  },
  "language_info": {
   "codemirror_mode": {
    "name": "ipython",
    "version": 3
   },
   "file_extension": ".py",
   "mimetype": "text/x-python",
   "name": "python",
   "nbconvert_exporter": "python",
   "pygments_lexer": "ipython3",
   "version": "3.9.5"
  }
 },
 "nbformat": 4,
 "nbformat_minor": 5
}
